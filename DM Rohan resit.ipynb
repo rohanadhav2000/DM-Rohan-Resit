{
 "cells": [
  {
   "cell_type": "code",
   "execution_count": 1,
   "id": "d5971ae2",
   "metadata": {},
   "outputs": [
    {
     "name": "stderr",
     "output_type": "stream",
     "text": [
      "/Users/rohan/Desktop/anaconda3/lib/python3.9/site-packages/scipy/__init__.py:146: UserWarning: A NumPy version >=1.16.5 and <1.23.0 is required for this version of SciPy (detected version 1.24.3\n",
      "  warnings.warn(f\"A NumPy version >={np_minversion} and <{np_maxversion}\"\n"
     ]
    }
   ],
   "source": [
    "import pandas as pd\n",
    "import numpy as np\n",
    "import os\n",
    "import matplotlib.pyplot as plt\n",
    "import seaborn as sns\n",
    "import matplotlib as mp1\n",
    "from scipy import stats\n",
    "from sklearn.model_selection import train_test_split\n",
    "from sklearn.metrics import accuracy_score, confusion_matrix, classification_report, roc_auc_score, roc_curve\n",
    "from skimage.io import imread\n",
    "from skimage.transform import resize\n",
    "from sklearn.naive_bayes import GaussianNB\n",
    "from sklearn import metrics\n"
   ]
  },
  {
   "cell_type": "markdown",
   "id": "e2ee4a56",
   "metadata": {},
   "source": [
    "# Part one\n",
    "\n",
    "## Data loading "
   ]
  },
  {
   "cell_type": "code",
   "execution_count": 2,
   "id": "e781b2ed",
   "metadata": {},
   "outputs": [],
   "source": [
    "# Loading the datasets from .npy files\n",
    "data_set1 = np.load(\"/Users/rohan/Desktop/rohan/HWU/Data Mining/smiley_dataset/smiley_X.npy\")\n",
    "data_set2 = np.load(\"/Users/rohan/Desktop/rohan/HWU/Data Mining/smiley_dataset/smiley_Y.npy\")"
   ]
  },
  {
   "cell_type": "code",
   "execution_count": 3,
   "id": "0d6ef1c1",
   "metadata": {},
   "outputs": [],
   "source": [
    "# Reshaping the data to 2D format\n",
    "data_set1 = data_set1.reshape(-1, data_set1.shape[-1])\n",
    "data_set2 = data_set2.reshape(-1, data_set2.shape[-1])"
   ]
  },
  {
   "cell_type": "code",
   "execution_count": 4,
   "id": "d97c409f",
   "metadata": {},
   "outputs": [],
   "source": [
    "# Converting to pandas DataFrames\n",
    "data_set1_columns = [f\"feature_{i+1}\" for i in range(data_set1.shape[1]-1)] + ['target']\n",
    "data_set2_columns = [f\"feature_{i+1}\" for i in range(data_set2.shape[1]-1)] + ['target']\n",
    "data_set1 = pd.DataFrame(data_set1, columns=data_set1_columns)\n",
    "data_set2 = pd.DataFrame(data_set2, columns=data_set2_columns)"
   ]
  },
  {
   "cell_type": "code",
   "execution_count": 5,
   "id": "ef62b156",
   "metadata": {},
   "outputs": [
    {
     "name": "stdout",
     "output_type": "stream",
     "text": [
      "Data Set 1:\n",
      "<class 'pandas.core.frame.DataFrame'>\n",
      "RangeIndex: 16524 entries, 0 to 16523\n",
      "Data columns (total 1 columns):\n",
      " #   Column  Non-Null Count  Dtype  \n",
      "---  ------  --------------  -----  \n",
      " 0   target  16524 non-null  float64\n",
      "dtypes: float64(1)\n",
      "memory usage: 129.2 KB\n",
      "None\n",
      "\n",
      "Data Set 2:\n",
      "<class 'pandas.core.frame.DataFrame'>\n",
      "RangeIndex: 1 entries, 0 to 0\n",
      "Columns: 204 entries, feature_1 to target\n",
      "dtypes: float64(204)\n",
      "memory usage: 1.7 KB\n",
      "None\n"
     ]
    }
   ],
   "source": [
    "#info about the datasets\n",
    "print(\"Data Set 1:\")\n",
    "print(data_set1.info())\n",
    "\n",
    "print(\"\\nData Set 2:\")\n",
    "print(data_set2.info())"
   ]
  },
  {
   "cell_type": "markdown",
   "id": "0b27e3bc",
   "metadata": {},
   "source": [
    "## Data visualization and exploration"
   ]
  },
  {
   "cell_type": "code",
   "execution_count": 6,
   "id": "90e98a08",
   "metadata": {},
   "outputs": [],
   "source": [
    "X = np.load(\"/Users/rohan/Desktop/rohan/HWU/Data Mining/smiley_dataset/smiley_X.npy\")\n",
    "Y = np.load(\"/Users/rohan/Desktop/rohan/HWU/Data Mining/smiley_dataset/smiley_Y.npy\")"
   ]
  },
  {
   "cell_type": "code",
   "execution_count": 7,
   "id": "9351f643",
   "metadata": {},
   "outputs": [
    {
     "data": {
      "text/plain": [
       "(204, 9, 9)"
      ]
     },
     "execution_count": 7,
     "metadata": {},
     "output_type": "execute_result"
    }
   ],
   "source": [
    "X = np.squeeze(X , axis= 3 )\n",
    "X.shape"
   ]
  },
  {
   "cell_type": "code",
   "execution_count": 8,
   "id": "97241243",
   "metadata": {},
   "outputs": [],
   "source": [
    "X = np.reshape(X, (204,81))"
   ]
  },
  {
   "cell_type": "code",
   "execution_count": 9,
   "id": "f27f9743",
   "metadata": {},
   "outputs": [
    {
     "data": {
      "text/plain": [
       "(204, 81)"
      ]
     },
     "execution_count": 9,
     "metadata": {},
     "output_type": "execute_result"
    }
   ],
   "source": [
    "X.shape"
   ]
  },
  {
   "cell_type": "code",
   "execution_count": 10,
   "id": "1177c6ec",
   "metadata": {},
   "outputs": [
    {
     "data": {
      "text/plain": [
       "(204,)"
      ]
     },
     "execution_count": 10,
     "metadata": {},
     "output_type": "execute_result"
    }
   ],
   "source": [
    "Y.shape"
   ]
  },
  {
   "cell_type": "code",
   "execution_count": 11,
   "id": "d0fdf07a",
   "metadata": {},
   "outputs": [
    {
     "data": {
      "image/png": "[encoded data removed]",
      "text/plain": [
       "<Figure size 432x288 with 1 Axes>"
      ]
     },
     "metadata": {
      "needs_background": "light"
     },
     "output_type": "display_data"
    }
   ],
   "source": [
    "some_digit = X[0]\n",
    "some_digit_image = some_digit.reshape(9,9)\n",
    "plt.imshow(some_digit_image,cmap=mp1.cm.binary)\n",
    "plt.show()"
   ]
  },
  {
   "cell_type": "code",
   "execution_count": 12,
   "id": "c0507a80",
   "metadata": {},
   "outputs": [],
   "source": [
    "def plot_digits(instances, images_per_row, **options):\n",
    "    size = int(np.sqrt(instances.shape[1]))\n",
    "    images_per_row = min(len(instances), images_per_row)\n",
    "    n_rows = (len(instances) - 1) // images_per_row + 1\n",
    "    fig, axs = plt.subplots(n_rows, images_per_row, figsize=(images_per_row, n_rows))\n",
    "    for i in range(n_rows):\n",
    "        for j in range(images_per_row):\n",
    "            image_idx = i * images_per_row + j\n",
    "            if image_idx < len(instances):\n",
    "                image = instances[image_idx].reshape(size, size)\n",
    "                axs[i, j].imshow(image, cmap=\"binary\")\n",
    "                axs[i, j].axis(\"off\")\n",
    "            else:\n",
    "                axs[i, j].axis(\"off\")\n",
    "    plt.show()"
   ]
  },
  {
   "cell_type": "code",
   "execution_count": 13,
   "id": "1d027d84",
   "metadata": {
    "scrolled": false
   },
   "outputs": [
    {
     "data": {
      "text/plain": [
       "<Figure size 360x360 with 0 Axes>"
      ]
     },
     "metadata": {},
     "output_type": "display_data"
    },
    {
     "data": {
      "image/png": "[encoded data removed]",
      "text/plain": [
       "<Figure size 720x720 with 100 Axes>"
      ]
     },
     "metadata": {
      "needs_background": "light"
     },
     "output_type": "display_data"
    }
   ],
   "source": [
    "plt.figure(figsize=(5, 5))\n",
    "example_images = X[:100]  # X containing image data\n",
    "plot_digits(example_images, images_per_row=10)\n",
    "plt.show()"
   ]
  },
  {
   "cell_type": "code",
   "execution_count": 14,
   "id": "c8c8a23a",
   "metadata": {},
   "outputs": [],
   "source": [
    "# Preprocessing the image_data to extract relevant features\n",
    "X = np.load('/Users/rohan/Desktop/rohan/HWU/Data Mining/smiley_dataset/smiley_X.npy')   \n",
    "Y = np.load('/Users/rohan/Desktop/rohan/HWU/Data Mining/smiley_dataset/smiley_Y.npy') \n",
    "image_means = np.mean(X, axis=(1,2,3))   "
   ]
  },
  {
   "cell_type": "code",
   "execution_count": 15,
   "id": "3a31db97",
   "metadata": {},
   "outputs": [],
   "source": [
    "#Grouping the extracted features based on the labels\n",
    "grouped_data = {}\n",
    "for label in np.unique(Y):\n",
    "    grouped_data[label] = image_means[Y == label]"
   ]
  },
  {
   "cell_type": "code",
   "execution_count": 16,
   "id": "04d40f84",
   "metadata": {},
   "outputs": [],
   "source": [
    "#summary statistics for each group (optional)\n",
    "mean_values = {label: np.mean(values) for label, values in grouped_data.items()}"
   ]
  },
  {
   "cell_type": "code",
   "execution_count": 17,
   "id": "a043f0f0",
   "metadata": {},
   "outputs": [
    {
     "data": {
      "image/png": "[encoded data removed]",
      "text/plain": [
       "<Figure size 432x288 with 1 Axes>"
      ]
     },
     "metadata": {
      "needs_background": "light"
     },
     "output_type": "display_data"
    }
   ],
   "source": [
    "#bar graph\n",
    "plt.bar(mean_values.keys(), mean_values.values())\n",
    "plt.xlabel('Happy sad & neutral')\n",
    "plt.ylabel('Mean Intensity')\n",
    "plt.title('Mean Intensity of Images by Expression of faces')\n",
    "plt.xticks(rotation=45) \n",
    "plt.show()"
   ]
  },
  {
   "cell_type": "code",
   "execution_count": 18,
   "id": "328a9d0f",
   "metadata": {},
   "outputs": [],
   "source": [
    "data_set1 = pd.DataFrame({'feature_1': image_means, 'feature_2': Y})"
   ]
  },
  {
   "cell_type": "code",
   "execution_count": 19,
   "id": "471c88f4",
   "metadata": {},
   "outputs": [
    {
     "data": {
      "image/png": "[encoded data removed]",
      "text/plain": [
       "<Figure size 720x432 with 1 Axes>"
      ]
     },
     "metadata": {
      "needs_background": "light"
     },
     "output_type": "display_data"
    }
   ],
   "source": [
    "# Histograms\n",
    "plt.figure(figsize=(10, 6))\n",
    "for i, col in enumerate(data_set1.columns[:-1]):\n",
    "    plt.subplot(2, 3, i+1)\n",
    "    sns.histplot(data_set1, x=col, hue='feature_2', kde=True)\n",
    "    plt.title(f\"Histogram - {col}\")\n",
    "plt.tight_layout()\n",
    "plt.show()"
   ]
  },
  {
   "cell_type": "code",
   "execution_count": 20,
   "id": "89a218b5",
   "metadata": {},
   "outputs": [
    {
     "data": {
      "image/png": "[encoded data removed]",
      "text/plain": [
       "<Figure size 720x432 with 1 Axes>"
      ]
     },
     "metadata": {
      "needs_background": "light"
     },
     "output_type": "display_data"
    }
   ],
   "source": [
    "# Box plots\n",
    "plt.figure(figsize=(10, 6))\n",
    "for i, col in enumerate(data_set1.columns[:-1]):\n",
    "    plt.subplot(2, 3, i+1)\n",
    "    sns.boxplot(x='feature_2', y=col, data=data_set1)\n",
    "    plt.title(f\"Box Plot - {col}\")\n",
    "plt.tight_layout()\n",
    "plt.show()"
   ]
  },
  {
   "cell_type": "code",
   "execution_count": 21,
   "id": "c7b7ec36",
   "metadata": {},
   "outputs": [
    {
     "data": {
      "image/png": "[encoded data removed]",
      "text/plain": [
       "<Figure size 432x288 with 1 Axes>"
      ]
     },
     "metadata": {
      "needs_background": "light"
     },
     "output_type": "display_data"
    }
   ],
   "source": [
    "# Scatter plot of two features\n",
    "sns.scatterplot(data=data_set1, x='feature_1', y='feature_2', hue='feature_2')\n",
    "plt.title(\"Scatter Plot - feature_1 vs. feature_2\")\n",
    "plt.show()"
   ]
  },
  {
   "cell_type": "code",
   "execution_count": 22,
   "id": "84031961",
   "metadata": {},
   "outputs": [
    {
     "data": {
      "image/png": "[encoded data removed]",
      "text/plain": [
       "<Figure size 576x432 with 2 Axes>"
      ]
     },
     "metadata": {
      "needs_background": "light"
     },
     "output_type": "display_data"
    }
   ],
   "source": [
    "# Correlation heatmap\n",
    "correlation_matrix = data_set1.corr()\n",
    "plt.figure(figsize=(8, 6))\n",
    "sns.heatmap(correlation_matrix, annot=True, cmap='coolwarm', fmt=\".2f\")\n",
    "plt.title(\"Correlation Heatmap\")\n",
    "plt.show()"
   ]
  },
  {
   "cell_type": "markdown",
   "id": "39508396",
   "metadata": {},
   "source": [
    "## Missing values, errors and outliers"
   ]
  },
  {
   "cell_type": "code",
   "execution_count": 23,
   "id": "8288530c",
   "metadata": {},
   "outputs": [
    {
     "name": "stdout",
     "output_type": "stream",
     "text": [
      "Data Set 1 - Missing Values:\n",
      "feature_1    0\n",
      "feature_2    0\n",
      "dtype: int64\n",
      "\n",
      "Data Set 2 - Missing Values:\n",
      "feature_1      0\n",
      "feature_2      0\n",
      "feature_3      0\n",
      "feature_4      0\n",
      "feature_5      0\n",
      "              ..\n",
      "feature_200    0\n",
      "feature_201    0\n",
      "feature_202    0\n",
      "feature_203    0\n",
      "target         0\n",
      "Length: 204, dtype: int64\n"
     ]
    }
   ],
   "source": [
    "# Checking for missing values in Dataset 1 and 2\n",
    "print(\"Data Set 1 - Missing Values:\")\n",
    "print(data_set1.isnull().sum())\n",
    "\n",
    "print(\"\\nData Set 2 - Missing Values:\")\n",
    "print(data_set2.isnull().sum())"
   ]
  },
  {
   "cell_type": "code",
   "execution_count": 24,
   "id": "7adb18d3",
   "metadata": {},
   "outputs": [],
   "source": [
    "# Outlier removal using Z-score method\n",
    "z_scores = stats.zscore(data_set1[data_set1_columns[:-1]])\n",
    "abs_z_scores = np.abs(z_scores)\n",
    "outlier_threshold = 3\n",
    "data_set1_cleaned = data_set1[(abs_z_scores < outlier_threshold).all(axis=1)]\n",
    "\n",
    "z_scores = stats.zscore(data_set2[data_set1_columns[:-1]])\n",
    "abs_z_scores = np.abs(z_scores)\n",
    "outlier_threshold = 3\n",
    "data_set2_cleaned = data_set2[(abs_z_scores < outlier_threshold).all(axis=1)]"
   ]
  },
  {
   "cell_type": "markdown",
   "id": "a209ec9f",
   "metadata": {},
   "source": [
    "## Naïve Bayes Classifier and major metrics"
   ]
  },
  {
   "cell_type": "code",
   "execution_count": 87,
   "id": "22cddb06",
   "metadata": {},
   "outputs": [],
   "source": [
    "# Load the image dataset (assuming 'images.npy' contains the image data)\n",
    "images = np.load('/Users/rohan/Desktop/rohan/HWU/Data Mining/smiley_dataset/smiley_X.npy')\n",
    "\n",
    "# Resize the images to a common size (e.g., 64x64) for consistency\n",
    "resized_images = [resize(img, (64, 64)) for img in images]\n",
    "\n",
    "# Convert the list of resized images to a NumPy array\n",
    "X = np.array(resized_images)\n",
    "# Load the label dataset (assuming 'labels.npy' contains the label data)\n",
    "labels = np.load('/Users/rohan/Desktop/rohan/HWU/Data Mining/smiley_dataset/smiley_Y.npy')\n",
    "\n",
    "# Convert labels to a Pandas DataFrame\n",
    "labels_df = pd.DataFrame(labels, columns=['label'])\n"
   ]
  },
  {
   "cell_type": "code",
   "execution_count": 88,
   "id": "d0f888dc",
   "metadata": {},
   "outputs": [],
   "source": [
    "X_train, X_test, y_train, y_test = train_test_split(X, labels_df['label'], test_size=0.2, random_state=42)\n"
   ]
  },
  {
   "cell_type": "code",
   "execution_count": 89,
   "id": "e7df47e8",
   "metadata": {},
   "outputs": [],
   "source": [
    "# As Naïve Bayes expects 1D input, we need to flatten and reshape the image data\n",
    "X_train_flattened = X_train.reshape(X_train.shape[0], -1)\n",
    "X_test_flattened = X_test.reshape(X_test.shape[0], -1)\n"
   ]
  },
  {
   "cell_type": "code",
   "execution_count": 102,
   "id": "4365d20e",
   "metadata": {},
   "outputs": [],
   "source": [
    "from sklearn.naive_bayes import MultinomialNB \n",
    "nb_classifier = MultinomialNB()\n",
    "# nb_classifier = GaussianNB()\n",
    "nb_classifier.fit(X_train_flattened, y_train)\n",
    "\n",
    "y_pred = nb_classifier.predict(X_test_flattened)\n",
    "y_pred_prob = nb_classifier.predict_proba(X_test_flattened)\n"
   ]
  },
  {
   "cell_type": "code",
   "execution_count": 91,
   "id": "d872f6ad",
   "metadata": {},
   "outputs": [],
   "source": [
    "accuracy = accuracy_score(y_test, y_pred)"
   ]
  },
  {
   "cell_type": "code",
   "execution_count": 94,
   "id": "3f6f1259",
   "metadata": {
    "scrolled": true
   },
   "outputs": [
    {
     "name": "stdout",
     "output_type": "stream",
     "text": [
      "Confusion Matrix:\n",
      "[[9 6 0]\n",
      " [0 9 0]\n",
      " [3 9 5]]\n",
      "\n",
      "Classification Report:\n",
      "              precision    recall  f1-score   support\n",
      "\n",
      "         0.0       0.75      0.60      0.67        15\n",
      "         1.0       0.38      1.00      0.55         9\n",
      "         2.0       1.00      0.29      0.45        17\n",
      "\n",
      "    accuracy                           0.56        41\n",
      "   macro avg       0.71      0.63      0.56        41\n",
      "weighted avg       0.77      0.56      0.55        41\n",
      "\n"
     ]
    }
   ],
   "source": [
    "try:\n",
    "    tn, fp, fn, tp = confusion_matrix(y_test, y_pred).ravel()\n",
    "    tp_rate = tp / (tp + fn)\n",
    "    fp_rate = fp / (fp + tn)\n",
    "    precision = tp / (tp + fp)\n",
    "    recall = tp_rate\n",
    "    f1_score = 2 * (precision * recall) / (precision + recall)\n",
    "except ValueError:\n",
    "    # For multiclass classification\n",
    "    confusion = confusion_matrix(y_test, y_pred)\n",
    "    print(\"Confusion Matrix:\")\n",
    "    print(confusion)\n",
    "    print(\"\\nClassification Report:\")\n",
    "    print(classification_report(y_test, y_pred))\n",
    "    "
   ]
  },
  {
   "cell_type": "code",
   "execution_count": 104,
   "id": "7f97b8f1",
   "metadata": {},
   "outputs": [
    {
     "name": "stdout",
     "output_type": "stream",
     "text": [
      "Shape of X_test: (41, 64, 64, 1)\n"
     ]
    }
   ],
   "source": [
    "print(\"Shape of X_test:\", X_test.shape)\n",
    "X_test_2d = X_test.reshape(-1, 1)"
   ]
  },
  {
   "cell_type": "code",
   "execution_count": 106,
   "id": "5fd399b5",
   "metadata": {},
   "outputs": [],
   "source": [
    "# y_pred = nb_classifier.predict(X_test)"
   ]
  },
  {
   "cell_type": "code",
   "execution_count": 96,
   "id": "0c5f0d1f",
   "metadata": {},
   "outputs": [
    {
     "name": "stdout",
     "output_type": "stream",
     "text": [
      "Accuracy: 0.5609756097560976\n",
      "True Positive Rate (TP rate): 0.8\n",
      "False Positive Rate (FP rate): 0.3333333333333333\n",
      "Precision: 0.4444444444444444\n",
      "Recall: 0.8\n",
      "F1 Score: 0.5714285714285714\n"
     ]
    }
   ],
   "source": [
    "# Step 5: Draw conclusions\n",
    "print(\"Accuracy:\", accuracy)\n",
    "if 'tp_rate' in locals():\n",
    "    print(\"True Positive Rate (TP rate):\", tp_rate)\n",
    "    print(\"False Positive Rate (FP rate):\", fp_rate)\n",
    "    print(\"Precision:\", precision)\n",
    "    print(\"Recall:\", recall)\n",
    "    print(\"F1 Score:\", f1_score)\n",
    "# print(\"ROC Area:\", roc_area)"
   ]
  },
  {
   "cell_type": "code",
   "execution_count": 83,
   "id": "98525fea",
   "metadata": {},
   "outputs": [
    {
     "name": "stdout",
     "output_type": "stream",
     "text": [
      "\n",
      "Classification Report:\n",
      "              precision    recall  f1-score   support\n",
      "\n",
      "         0.0       0.75      0.60      0.67        15\n",
      "         1.0       0.38      1.00      0.55         9\n",
      "         2.0       1.00      0.29      0.45        17\n",
      "\n",
      "    accuracy                           0.56        41\n",
      "   macro avg       0.71      0.63      0.56        41\n",
      "weighted avg       0.77      0.56      0.55        41\n",
      "\n"
     ]
    }
   ],
   "source": [
    "print(\"\\nClassification Report:\")\n",
    "print(classification_report(y_test, y_pred))"
   ]
  },
  {
   "cell_type": "markdown",
   "id": "723b333a",
   "metadata": {},
   "source": [
    "# Part Two"
   ]
  },
  {
   "cell_type": "code",
   "execution_count": 107,
   "id": "c79b41cb",
   "metadata": {},
   "outputs": [],
   "source": [
    "import cv2\n",
    "import numpy as np\n",
    "import pandas as pd\n",
    "from sklearn.cluster import KMeans\n",
    "from sklearn.metrics import adjusted_rand_score\n",
    "import matplotlib.pyplot as plt\n",
    "from sklearn.datasets import load_digits\n",
    "from sklearn.preprocessing import StandardScaler\n"
   ]
  },
  {
   "cell_type": "code",
   "execution_count": 56,
   "id": "4c85fb05",
   "metadata": {},
   "outputs": [],
   "source": [
    "image_path = ['/Users/rohan/Desktop/rohan/HWU/Data Mining/smiley_dataset/smiley_X.npy']\n",
    "labels = ['/Users/rohan/Desktop/rohan/HWU/Data Mining/smiley_dataset/smiley_Y.npy'] "
   ]
  },
  {
   "cell_type": "code",
   "execution_count": 108,
   "id": "3b7df8bf",
   "metadata": {},
   "outputs": [],
   "source": [
    "def extract_color_histogram(image_path):\n",
    "    # Read the image in BGR format (default format for OpenCV)\n",
    "    image = cv2.imread(image_path)\n",
    "\n",
    "    # Convert BGR to RGB\n",
    "    image_rgb = cv2.cvtColor(image, cv2.COLOR_BGR2RGB)\n",
    "\n",
    "    # Ensure the image has three color channels (RGB)\n",
    "    if image_rgb.shape[2] != 3:\n",
    "        raise ValueError(\"Input image must have three color channels (RGB).\")\n",
    "\n",
    "    hist = cv2.calcHist([image_rgb], [0, 1, 2], None, [8, 8, 8], [0, 256, 0, 256, 0, 256])\n",
    "    hist = cv2.normalize(hist, hist).flatten()\n",
    "    return hist\n"
   ]
  },
  {
   "cell_type": "code",
   "execution_count": 60,
   "id": "9583c1dd",
   "metadata": {},
   "outputs": [
    {
     "ename": "error",
     "evalue": "OpenCV(4.8.0) /Users/runner/work/opencv-python/opencv-python/opencv/modules/imgproc/src/color.cpp:182: error: (-215:Assertion failed) !_src.empty() in function 'cvtColor'\n",
     "output_type": "error",
     "traceback": [
      "\u001b[0;31m---------------------------------------------------------------------------\u001b[0m",
      "\u001b[0;31merror\u001b[0m                                     Traceback (most recent call last)",
      "Input \u001b[0;32mIn [60]\u001b[0m, in \u001b[0;36m<cell line: 1>\u001b[0;34m()\u001b[0m\n\u001b[0;32m----> 1\u001b[0m features \u001b[38;5;241m=\u001b[39m np\u001b[38;5;241m.\u001b[39marray([extract_color_histogram(image_path) \u001b[38;5;28;01mfor\u001b[39;00m image_path \u001b[38;5;129;01min\u001b[39;00m image_paths \u001b[38;5;28;01mif\u001b[39;00m extract_color_histogram(image_path) \u001b[38;5;129;01mis\u001b[39;00m \u001b[38;5;129;01mnot\u001b[39;00m \u001b[38;5;28;01mNone\u001b[39;00m])\n",
      "Input \u001b[0;32mIn [60]\u001b[0m, in \u001b[0;36m<listcomp>\u001b[0;34m(.0)\u001b[0m\n\u001b[0;32m----> 1\u001b[0m features \u001b[38;5;241m=\u001b[39m np\u001b[38;5;241m.\u001b[39marray([extract_color_histogram(image_path) \u001b[38;5;28;01mfor\u001b[39;00m image_path \u001b[38;5;129;01min\u001b[39;00m image_paths \u001b[38;5;28;01mif\u001b[39;00m \u001b[43mextract_color_histogram\u001b[49m\u001b[43m(\u001b[49m\u001b[43mimage_path\u001b[49m\u001b[43m)\u001b[49m \u001b[38;5;129;01mis\u001b[39;00m \u001b[38;5;129;01mnot\u001b[39;00m \u001b[38;5;28;01mNone\u001b[39;00m])\n",
      "Input \u001b[0;32mIn [57]\u001b[0m, in \u001b[0;36mextract_color_histogram\u001b[0;34m(image_path)\u001b[0m\n\u001b[1;32m      3\u001b[0m image \u001b[38;5;241m=\u001b[39m cv2\u001b[38;5;241m.\u001b[39mimread(image_path)\n\u001b[1;32m      5\u001b[0m \u001b[38;5;66;03m# Convert BGR to RGB\u001b[39;00m\n\u001b[0;32m----> 6\u001b[0m image_rgb \u001b[38;5;241m=\u001b[39m \u001b[43mcv2\u001b[49m\u001b[38;5;241;43m.\u001b[39;49m\u001b[43mcvtColor\u001b[49m\u001b[43m(\u001b[49m\u001b[43mimage\u001b[49m\u001b[43m,\u001b[49m\u001b[43m \u001b[49m\u001b[43mcv2\u001b[49m\u001b[38;5;241;43m.\u001b[39;49m\u001b[43mCOLOR_BGR2RGB\u001b[49m\u001b[43m)\u001b[49m\n\u001b[1;32m      8\u001b[0m \u001b[38;5;66;03m# Ensure the image has three color channels (RGB)\u001b[39;00m\n\u001b[1;32m      9\u001b[0m \u001b[38;5;28;01mif\u001b[39;00m image_rgb\u001b[38;5;241m.\u001b[39mshape[\u001b[38;5;241m2\u001b[39m] \u001b[38;5;241m!=\u001b[39m \u001b[38;5;241m3\u001b[39m:\n",
      "\u001b[0;31merror\u001b[0m: OpenCV(4.8.0) /Users/runner/work/opencv-python/opencv-python/opencv/modules/imgproc/src/color.cpp:182: error: (-215:Assertion failed) !_src.empty() in function 'cvtColor'\n"
     ]
    }
   ],
   "source": [
    "features = np.array([extract_color_histogram(image_path) for image_path in image_paths if extract_color_histogram(image_path) is not None])\n",
    "\n"
   ]
  },
  {
   "cell_type": "code",
   "execution_count": 59,
   "id": "a3c55527",
   "metadata": {},
   "outputs": [
    {
     "ename": "NameError",
     "evalue": "name 'features' is not defined",
     "output_type": "error",
     "traceback": [
      "\u001b[0;31m---------------------------------------------------------------------------\u001b[0m",
      "\u001b[0;31mNameError\u001b[0m                                 Traceback (most recent call last)",
      "Input \u001b[0;32mIn [59]\u001b[0m, in \u001b[0;36m<cell line: 3>\u001b[0;34m()\u001b[0m\n\u001b[1;32m      1\u001b[0m k \u001b[38;5;241m=\u001b[39m \u001b[38;5;241m3\u001b[39m  \u001b[38;5;66;03m# Number of clusters\u001b[39;00m\n\u001b[1;32m      2\u001b[0m kmeans \u001b[38;5;241m=\u001b[39m KMeans(n_clusters\u001b[38;5;241m=\u001b[39mk, random_state\u001b[38;5;241m=\u001b[39m\u001b[38;5;241m42\u001b[39m)\n\u001b[0;32m----> 3\u001b[0m clusters \u001b[38;5;241m=\u001b[39m kmeans\u001b[38;5;241m.\u001b[39mfit_predict(\u001b[43mfeatures\u001b[49m)\n",
      "\u001b[0;31mNameError\u001b[0m: name 'features' is not defined"
     ]
    }
   ],
   "source": [
    "k = 3  # Number of clusters\n",
    "kmeans = KMeans(n_clusters=k, random_state=42)\n",
    "clusters = kmeans.fit_predict(features)"
   ]
  },
  {
   "cell_type": "code",
   "execution_count": 41,
   "id": "5e2a58d4",
   "metadata": {},
   "outputs": [
    {
     "ename": "NameError",
     "evalue": "name 'ground_truth_labels' is not defined",
     "output_type": "error",
     "traceback": [
      "\u001b[0;31m---------------------------------------------------------------------------\u001b[0m",
      "\u001b[0;31mNameError\u001b[0m                                 Traceback (most recent call last)",
      "Input \u001b[0;32mIn [41]\u001b[0m, in \u001b[0;36m<cell line: 1>\u001b[0;34m()\u001b[0m\n\u001b[0;32m----> 1\u001b[0m ari_score \u001b[38;5;241m=\u001b[39m adjusted_rand_score(\u001b[43mground_truth_labels\u001b[49m, clusters)\n\u001b[1;32m      2\u001b[0m \u001b[38;5;28mprint\u001b[39m(\u001b[38;5;124mf\u001b[39m\u001b[38;5;124m\"\u001b[39m\u001b[38;5;124mAdjusted Rand Index: \u001b[39m\u001b[38;5;132;01m{\u001b[39;00mari_score\u001b[38;5;132;01m}\u001b[39;00m\u001b[38;5;124m\"\u001b[39m)\n",
      "\u001b[0;31mNameError\u001b[0m: name 'ground_truth_labels' is not defined"
     ]
    }
   ],
   "source": [
    "ari_score = adjusted_rand_score(ground_truth_labels, clusters)\n",
    "print(f\"Adjusted Rand Index: {ari_score}\")"
   ]
  },
  {
   "cell_type": "code",
   "execution_count": 42,
   "id": "862ff00b",
   "metadata": {},
   "outputs": [
    {
     "ename": "NameError",
     "evalue": "name 'clusters' is not defined",
     "output_type": "error",
     "traceback": [
      "\u001b[0;31m---------------------------------------------------------------------------\u001b[0m",
      "\u001b[0;31mNameError\u001b[0m                                 Traceback (most recent call last)",
      "Input \u001b[0;32mIn [42]\u001b[0m, in \u001b[0;36m<cell line: 2>\u001b[0;34m()\u001b[0m\n\u001b[1;32m      1\u001b[0m num_images_per_cluster \u001b[38;5;241m=\u001b[39m \u001b[38;5;241m5\u001b[39m\n\u001b[1;32m      2\u001b[0m \u001b[38;5;28;01mfor\u001b[39;00m cluster_id \u001b[38;5;129;01min\u001b[39;00m \u001b[38;5;28mrange\u001b[39m(k):\n\u001b[0;32m----> 3\u001b[0m     cluster_indices \u001b[38;5;241m=\u001b[39m np\u001b[38;5;241m.\u001b[39mwhere(\u001b[43mclusters\u001b[49m \u001b[38;5;241m==\u001b[39m cluster_id)[\u001b[38;5;241m0\u001b[39m]\n\u001b[1;32m      4\u001b[0m     selected_indices \u001b[38;5;241m=\u001b[39m cluster_indices[:num_images_per_cluster]\n\u001b[1;32m      6\u001b[0m     plt\u001b[38;5;241m.\u001b[39mfigure(figsize\u001b[38;5;241m=\u001b[39m(\u001b[38;5;241m15\u001b[39m, \u001b[38;5;241m3\u001b[39m))\n",
      "\u001b[0;31mNameError\u001b[0m: name 'clusters' is not defined"
     ]
    }
   ],
   "source": [
    "num_images_per_cluster = 5\n",
    "for cluster_id in range(k):\n",
    "    cluster_indices = np.where(clusters == cluster_id)[0]\n",
    "    selected_indices = cluster_indices[:num_images_per_cluster]\n",
    "\n",
    "    plt.figure(figsize=(15, 3))\n",
    "    for idx, img_idx in enumerate(selected_indices):\n",
    "        plt.subplot(1, num_images_per_cluster, idx + 1)\n",
    "        plt.imshow(images[img_idx])\n",
    "        plt.title(f\"Cluster: {cluster_id}\")\n",
    "        plt.axis('off')\n",
    "\n",
    "    plt.show()"
   ]
  },
  {
   "cell_type": "markdown",
   "id": "320e5ac1",
   "metadata": {},
   "source": [
    "# Part Three"
   ]
  },
  {
   "cell_type": "code",
   "execution_count": null,
   "id": "84dd51a1",
   "metadata": {},
   "outputs": [],
   "source": []
  },
  {
   "cell_type": "markdown",
   "id": "6d689192",
   "metadata": {},
   "source": [
    "# Part Four"
   ]
  },
  {
   "cell_type": "code",
   "execution_count": 80,
   "id": "be0f1620",
   "metadata": {},
   "outputs": [
    {
     "data": {
      "image/png": "[encoded data removed]",
      "text/plain": [
       "<Figure size 432x288 with 1 Axes>"
      ]
     },
     "metadata": {
      "needs_background": "light"
     },
     "output_type": "display_data"
    },
    {
     "name": "stderr",
     "output_type": "stream",
     "text": [
      "2023-07-27 13:29:57.799595: I tensorflow/core/platform/cpu_feature_guard.cc:193] This TensorFlow binary is optimized with oneAPI Deep Neural Network Library (oneDNN) to use the following CPU instructions in performance-critical operations:  SSE4.1 SSE4.2\n",
      "To enable them in other operations, rebuild TensorFlow with the appropriate compiler flags.\n"
     ]
    },
    {
     "ename": "ValueError",
     "evalue": "Exception encountered when calling layer \"max_pooling2d_1\" (type MaxPooling2D).\n\nNegative dimension size caused by subtracting 2 from 1 for '{{node max_pooling2d_1/MaxPool}} = MaxPool[T=DT_FLOAT, data_format=\"NHWC\", explicit_paddings=[], ksize=[1, 2, 2, 1], padding=\"VALID\", strides=[1, 2, 2, 1]](Placeholder)' with input shapes: [?,1,1,64].\n\nCall arguments received by layer \"max_pooling2d_1\" (type MaxPooling2D):\n  • inputs=tf.Tensor(shape=(None, 1, 1, 64), dtype=float32)",
     "output_type": "error",
     "traceback": [
      "\u001b[0;31m---------------------------------------------------------------------------\u001b[0m",
      "\u001b[0;31mValueError\u001b[0m                                Traceback (most recent call last)",
      "Input \u001b[0;32mIn [80]\u001b[0m, in \u001b[0;36m<cell line: 20>\u001b[0;34m()\u001b[0m\n\u001b[1;32m     17\u001b[0m X_train, X_test, y_train, y_test \u001b[38;5;241m=\u001b[39m train_test_split(images, labels, test_size\u001b[38;5;241m=\u001b[39m\u001b[38;5;241m0.2\u001b[39m, random_state\u001b[38;5;241m=\u001b[39m\u001b[38;5;241m42\u001b[39m)\n\u001b[1;32m     19\u001b[0m \u001b[38;5;66;03m# Define the CNN model\u001b[39;00m\n\u001b[0;32m---> 20\u001b[0m model \u001b[38;5;241m=\u001b[39m \u001b[43mkeras\u001b[49m\u001b[38;5;241;43m.\u001b[39;49m\u001b[43mSequential\u001b[49m\u001b[43m(\u001b[49m\u001b[43m[\u001b[49m\n\u001b[1;32m     21\u001b[0m \u001b[43m    \u001b[49m\u001b[43mlayers\u001b[49m\u001b[38;5;241;43m.\u001b[39;49m\u001b[43mConv2D\u001b[49m\u001b[43m(\u001b[49m\u001b[38;5;241;43m32\u001b[39;49m\u001b[43m,\u001b[49m\u001b[43m \u001b[49m\u001b[43m(\u001b[49m\u001b[38;5;241;43m3\u001b[39;49m\u001b[43m,\u001b[49m\u001b[43m \u001b[49m\u001b[38;5;241;43m3\u001b[39;49m\u001b[43m)\u001b[49m\u001b[43m,\u001b[49m\u001b[43m \u001b[49m\u001b[43mactivation\u001b[49m\u001b[38;5;241;43m=\u001b[39;49m\u001b[38;5;124;43m\"\u001b[39;49m\u001b[38;5;124;43mrelu\u001b[39;49m\u001b[38;5;124;43m\"\u001b[39;49m\u001b[43m,\u001b[49m\u001b[43m \u001b[49m\u001b[43minput_shape\u001b[49m\u001b[38;5;241;43m=\u001b[39;49m\u001b[43m(\u001b[49m\u001b[38;5;241;43m8\u001b[39;49m\u001b[43m,\u001b[49m\u001b[38;5;241;43m8\u001b[39;49m\u001b[43m,\u001b[49m\u001b[43m \u001b[49m\u001b[38;5;241;43m3\u001b[39;49m\u001b[43m)\u001b[49m\u001b[43m)\u001b[49m\u001b[43m,\u001b[49m\n\u001b[1;32m     22\u001b[0m \u001b[43m    \u001b[49m\u001b[43mlayers\u001b[49m\u001b[38;5;241;43m.\u001b[39;49m\u001b[43mMaxPooling2D\u001b[49m\u001b[43m(\u001b[49m\u001b[43m(\u001b[49m\u001b[38;5;241;43m2\u001b[39;49m\u001b[43m,\u001b[49m\u001b[43m \u001b[49m\u001b[38;5;241;43m2\u001b[39;49m\u001b[43m)\u001b[49m\u001b[43m)\u001b[49m\u001b[43m,\u001b[49m\n\u001b[1;32m     23\u001b[0m \u001b[43m    \u001b[49m\u001b[43mlayers\u001b[49m\u001b[38;5;241;43m.\u001b[39;49m\u001b[43mConv2D\u001b[49m\u001b[43m(\u001b[49m\u001b[38;5;241;43m64\u001b[39;49m\u001b[43m,\u001b[49m\u001b[43m \u001b[49m\u001b[43m(\u001b[49m\u001b[38;5;241;43m3\u001b[39;49m\u001b[43m,\u001b[49m\u001b[43m \u001b[49m\u001b[38;5;241;43m3\u001b[39;49m\u001b[43m)\u001b[49m\u001b[43m,\u001b[49m\u001b[43m \u001b[49m\u001b[43mactivation\u001b[49m\u001b[38;5;241;43m=\u001b[39;49m\u001b[38;5;124;43m\"\u001b[39;49m\u001b[38;5;124;43mrelu\u001b[39;49m\u001b[38;5;124;43m\"\u001b[39;49m\u001b[43m)\u001b[49m\u001b[43m,\u001b[49m\n\u001b[1;32m     24\u001b[0m \u001b[43m    \u001b[49m\u001b[43mlayers\u001b[49m\u001b[38;5;241;43m.\u001b[39;49m\u001b[43mMaxPooling2D\u001b[49m\u001b[43m(\u001b[49m\u001b[43m(\u001b[49m\u001b[38;5;241;43m2\u001b[39;49m\u001b[43m,\u001b[49m\u001b[43m \u001b[49m\u001b[38;5;241;43m2\u001b[39;49m\u001b[43m)\u001b[49m\u001b[43m)\u001b[49m\u001b[43m,\u001b[49m\n\u001b[1;32m     25\u001b[0m \u001b[43m    \u001b[49m\u001b[43mlayers\u001b[49m\u001b[38;5;241;43m.\u001b[39;49m\u001b[43mConv2D\u001b[49m\u001b[43m(\u001b[49m\u001b[38;5;241;43m128\u001b[39;49m\u001b[43m,\u001b[49m\u001b[43m \u001b[49m\u001b[43m(\u001b[49m\u001b[38;5;241;43m3\u001b[39;49m\u001b[43m,\u001b[49m\u001b[43m \u001b[49m\u001b[38;5;241;43m3\u001b[39;49m\u001b[43m)\u001b[49m\u001b[43m,\u001b[49m\u001b[43m \u001b[49m\u001b[43mactivation\u001b[49m\u001b[38;5;241;43m=\u001b[39;49m\u001b[38;5;124;43m\"\u001b[39;49m\u001b[38;5;124;43mrelu\u001b[39;49m\u001b[38;5;124;43m\"\u001b[39;49m\u001b[43m)\u001b[49m\u001b[43m,\u001b[49m\n\u001b[1;32m     26\u001b[0m \u001b[43m    \u001b[49m\u001b[43mlayers\u001b[49m\u001b[38;5;241;43m.\u001b[39;49m\u001b[43mMaxPooling2D\u001b[49m\u001b[43m(\u001b[49m\u001b[43m(\u001b[49m\u001b[38;5;241;43m2\u001b[39;49m\u001b[43m,\u001b[49m\u001b[43m \u001b[49m\u001b[38;5;241;43m2\u001b[39;49m\u001b[43m)\u001b[49m\u001b[43m)\u001b[49m\u001b[43m,\u001b[49m\n\u001b[1;32m     27\u001b[0m \u001b[43m    \u001b[49m\u001b[43mlayers\u001b[49m\u001b[38;5;241;43m.\u001b[39;49m\u001b[43mFlatten\u001b[49m\u001b[43m(\u001b[49m\u001b[43m)\u001b[49m\u001b[43m,\u001b[49m\n\u001b[1;32m     28\u001b[0m \u001b[43m    \u001b[49m\u001b[43mlayers\u001b[49m\u001b[38;5;241;43m.\u001b[39;49m\u001b[43mDense\u001b[49m\u001b[43m(\u001b[49m\u001b[38;5;241;43m64\u001b[39;49m\u001b[43m,\u001b[49m\u001b[43m \u001b[49m\u001b[43mactivation\u001b[49m\u001b[38;5;241;43m=\u001b[39;49m\u001b[38;5;124;43m\"\u001b[39;49m\u001b[38;5;124;43mrelu\u001b[39;49m\u001b[38;5;124;43m\"\u001b[39;49m\u001b[43m)\u001b[49m\u001b[43m,\u001b[49m\n\u001b[1;32m     29\u001b[0m \u001b[43m    \u001b[49m\u001b[43mlayers\u001b[49m\u001b[38;5;241;43m.\u001b[39;49m\u001b[43mDense\u001b[49m\u001b[43m(\u001b[49m\u001b[43mnum_classes\u001b[49m\u001b[43m,\u001b[49m\u001b[43m \u001b[49m\u001b[43mactivation\u001b[49m\u001b[38;5;241;43m=\u001b[39;49m\u001b[38;5;124;43m\"\u001b[39;49m\u001b[38;5;124;43msoftmax\u001b[39;49m\u001b[38;5;124;43m\"\u001b[39;49m\u001b[43m)\u001b[49m\n\u001b[1;32m     30\u001b[0m \u001b[43m]\u001b[49m\u001b[43m)\u001b[49m\n\u001b[1;32m     32\u001b[0m \u001b[38;5;66;03m# Compiling the model\u001b[39;00m\n\u001b[1;32m     33\u001b[0m model\u001b[38;5;241m.\u001b[39mcompile(optimizer\u001b[38;5;241m=\u001b[39m\u001b[38;5;124m\"\u001b[39m\u001b[38;5;124madam\u001b[39m\u001b[38;5;124m\"\u001b[39m, loss\u001b[38;5;241m=\u001b[39m\u001b[38;5;124m\"\u001b[39m\u001b[38;5;124msparse_categorical_crossentropy\u001b[39m\u001b[38;5;124m\"\u001b[39m, metrics\u001b[38;5;241m=\u001b[39m[\u001b[38;5;124m\"\u001b[39m\u001b[38;5;124maccuracy\u001b[39m\u001b[38;5;124m\"\u001b[39m])\n",
      "File \u001b[0;32m~/Desktop/anaconda3/lib/python3.9/site-packages/tensorflow/python/training/tracking/base.py:587\u001b[0m, in \u001b[0;36mno_automatic_dependency_tracking.<locals>._method_wrapper\u001b[0;34m(self, *args, **kwargs)\u001b[0m\n\u001b[1;32m    585\u001b[0m \u001b[38;5;28mself\u001b[39m\u001b[38;5;241m.\u001b[39m_self_setattr_tracking \u001b[38;5;241m=\u001b[39m \u001b[38;5;28;01mFalse\u001b[39;00m  \u001b[38;5;66;03m# pylint: disable=protected-access\u001b[39;00m\n\u001b[1;32m    586\u001b[0m \u001b[38;5;28;01mtry\u001b[39;00m:\n\u001b[0;32m--> 587\u001b[0m   result \u001b[38;5;241m=\u001b[39m \u001b[43mmethod\u001b[49m\u001b[43m(\u001b[49m\u001b[38;5;28;43mself\u001b[39;49m\u001b[43m,\u001b[49m\u001b[43m \u001b[49m\u001b[38;5;241;43m*\u001b[39;49m\u001b[43margs\u001b[49m\u001b[43m,\u001b[49m\u001b[43m \u001b[49m\u001b[38;5;241;43m*\u001b[39;49m\u001b[38;5;241;43m*\u001b[39;49m\u001b[43mkwargs\u001b[49m\u001b[43m)\u001b[49m\n\u001b[1;32m    588\u001b[0m \u001b[38;5;28;01mfinally\u001b[39;00m:\n\u001b[1;32m    589\u001b[0m   \u001b[38;5;28mself\u001b[39m\u001b[38;5;241m.\u001b[39m_self_setattr_tracking \u001b[38;5;241m=\u001b[39m previous_value  \u001b[38;5;66;03m# pylint: disable=protected-access\u001b[39;00m\n",
      "File \u001b[0;32m~/Desktop/anaconda3/lib/python3.9/site-packages/keras/utils/traceback_utils.py:67\u001b[0m, in \u001b[0;36mfilter_traceback.<locals>.error_handler\u001b[0;34m(*args, **kwargs)\u001b[0m\n\u001b[1;32m     65\u001b[0m \u001b[38;5;28;01mexcept\u001b[39;00m \u001b[38;5;167;01mException\u001b[39;00m \u001b[38;5;28;01mas\u001b[39;00m e:  \u001b[38;5;66;03m# pylint: disable=broad-except\u001b[39;00m\n\u001b[1;32m     66\u001b[0m   filtered_tb \u001b[38;5;241m=\u001b[39m _process_traceback_frames(e\u001b[38;5;241m.\u001b[39m__traceback__)\n\u001b[0;32m---> 67\u001b[0m   \u001b[38;5;28;01mraise\u001b[39;00m e\u001b[38;5;241m.\u001b[39mwith_traceback(filtered_tb) \u001b[38;5;28;01mfrom\u001b[39;00m \u001b[38;5;28mNone\u001b[39m\n\u001b[1;32m     68\u001b[0m \u001b[38;5;28;01mfinally\u001b[39;00m:\n\u001b[1;32m     69\u001b[0m   \u001b[38;5;28;01mdel\u001b[39;00m filtered_tb\n",
      "File \u001b[0;32m~/Desktop/anaconda3/lib/python3.9/site-packages/tensorflow/python/framework/ops.py:1963\u001b[0m, in \u001b[0;36m_create_c_op\u001b[0;34m(graph, node_def, inputs, control_inputs, op_def)\u001b[0m\n\u001b[1;32m   1960\u001b[0m   c_op \u001b[38;5;241m=\u001b[39m pywrap_tf_session\u001b[38;5;241m.\u001b[39mTF_FinishOperation(op_desc)\n\u001b[1;32m   1961\u001b[0m \u001b[38;5;28;01mexcept\u001b[39;00m errors\u001b[38;5;241m.\u001b[39mInvalidArgumentError \u001b[38;5;28;01mas\u001b[39;00m e:\n\u001b[1;32m   1962\u001b[0m   \u001b[38;5;66;03m# Convert to ValueError for backwards compatibility.\u001b[39;00m\n\u001b[0;32m-> 1963\u001b[0m   \u001b[38;5;28;01mraise\u001b[39;00m \u001b[38;5;167;01mValueError\u001b[39;00m(e\u001b[38;5;241m.\u001b[39mmessage)\n\u001b[1;32m   1965\u001b[0m \u001b[38;5;28;01mreturn\u001b[39;00m c_op\n",
      "\u001b[0;31mValueError\u001b[0m: Exception encountered when calling layer \"max_pooling2d_1\" (type MaxPooling2D).\n\nNegative dimension size caused by subtracting 2 from 1 for '{{node max_pooling2d_1/MaxPool}} = MaxPool[T=DT_FLOAT, data_format=\"NHWC\", explicit_paddings=[], ksize=[1, 2, 2, 1], padding=\"VALID\", strides=[1, 2, 2, 1]](Placeholder)' with input shapes: [?,1,1,64].\n\nCall arguments received by layer \"max_pooling2d_1\" (type MaxPooling2D):\n  • inputs=tf.Tensor(shape=(None, 1, 1, 64), dtype=float32)"
     ]
    }
   ],
   "source": [
    "from sklearn.model_selection import train_test_split\n",
    "from tensorflow import keras\n",
    "from tensorflow.keras import layers\n",
    "\n",
    "images = np.load(\"/Users/rohan/Desktop/rohan/HWU/Data Mining/smiley_dataset/smiley_X.npy\")\n",
    "labels = np.load(\"/Users/rohan/Desktop/rohan/HWU/Data Mining/smiley_dataset/smiley_Y.npy\")\n",
    "\n",
    "plt.imshow(images[0])\n",
    "plt.title(\"Label: {}\".format(labels[0]))\n",
    "plt.show()\n",
    "\n",
    "num_classes = 10 \n",
    "# Normalizing the image data to values between 0 and 1\n",
    "images = images.astype(\"float32\") / 255.0\n",
    "\n",
    "# Splitting the data into training and testing sets (80% train, 20% test)\n",
    "X_train, X_test, y_train, y_test = train_test_split(images, labels, test_size=0.2, random_state=42)\n",
    "\n",
    "# Defining the CNN model\n",
    "model = keras.Sequential([\n",
    "    layers.Conv2D(32, (3, 3), activation=\"relu\", input_shape=(8,8, 3)),\n",
    "    layers.MaxPooling2D((2, 2)),\n",
    "    layers.Conv2D(64, (3, 3), activation=\"relu\"),\n",
    "    layers.MaxPooling2D((2, 2)),\n",
    "    layers.Conv2D(128, (3, 3), activation=\"relu\"),\n",
    "    layers.MaxPooling2D((2, 2)),\n",
    "    layers.Flatten(),\n",
    "    layers.Dense(64, activation=\"relu\"),\n",
    "    layers.Dense(num_classes, activation=\"softmax\")\n",
    "])\n",
    "\n",
    "# Compiling the model\n",
    "model.compile(optimizer=\"adam\", loss=\"sparse_categorical_crossentropy\", metrics=[\"accuracy\"])\n",
    "\n",
    "# Training the model\n",
    "epochs = 10\n",
    "batch_size = 32\n",
    "model.fit(X_train, y_train, epochs=epochs, batch_size=batch_size, validation_split=0.1)\n",
    "\n",
    "# Evaluating the model on the test set\n",
    "test_loss, test_accuracy = model.evaluate(X_test, y_test)\n",
    "print(f\"Test accuracy: {test_accuracy}\")\n",
    "\n"
   ]
  },
  {
   "cell_type": "code",
   "execution_count": null,
   "id": "77fff135",
   "metadata": {},
   "outputs": [],
   "source": []
  }
 ],
 "metadata": {
  "kernelspec": {
   "display_name": "Python 3 (ipykernel)",
   "language": "python",
   "name": "python3"
  },
  "language_info": {
   "codemirror_mode": {
    "name": "ipython",
    "version": 3
   },
   "file_extension": ".py",
   "mimetype": "text/x-python",
   "name": "python",
   "nbconvert_exporter": "python",
   "pygments_lexer": "ipython3",
   "version": "3.9.12"
  }
 },
 "nbformat": 4,
 "nbformat_minor": 5
}
