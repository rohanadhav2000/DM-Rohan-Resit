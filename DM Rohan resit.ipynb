{
 "cells": [
  {
   "cell_type": "code",
   "execution_count": 1,
   "id": "d5971ae2",
   "metadata": {},
   "outputs": [
    {
     "name": "stderr",
     "output_type": "stream",
     "text": [
      "/Users/rohan/Desktop/anaconda3/lib/python3.9/site-packages/scipy/__init__.py:146: UserWarning: A NumPy version >=1.16.5 and <1.23.0 is required for this version of SciPy (detected version 1.24.3\n",
      "  warnings.warn(f\"A NumPy version >={np_minversion} and <{np_maxversion}\"\n"
     ]
    }
   ],
   "source": [
    "import pandas as pd\n",
    "import numpy as np\n",
    "import os\n",
    "import matplotlib.pyplot as plt\n",
    "import seaborn as sns\n",
    "import matplotlib as mp1\n",
    "from scipy import stats\n",
    "from sklearn.model_selection import train_test_split\n",
    "from sklearn.metrics import accuracy_score, confusion_matrix, classification_report, roc_auc_score, roc_curve\n",
    "from skimage.io import imread\n",
    "from skimage.transform import resize\n",
    "from sklearn.naive_bayes import GaussianNB\n",
    "from sklearn import metrics\n"
   ]
  },
  {
   "cell_type": "markdown",
   "id": "e2ee4a56",
   "metadata": {},
   "source": [
    "# Part one\n",
    "\n",
    "## Data loading "
   ]
  },
  {
   "cell_type": "code",
   "execution_count": 2,
   "id": "e781b2ed",
   "metadata": {},
   "outputs": [],
   "source": [
    "# Loading the datasets from .npy files\n",
    "data_set1 = np.load(\"/Users/rohan/Desktop/rohan/HWU/Data Mining/smiley_dataset/smiley_X.npy\")\n",
    "data_set2 = np.load(\"/Users/rohan/Desktop/rohan/HWU/Data Mining/smiley_dataset/smiley_Y.npy\")"
   ]
  },
  {
   "cell_type": "code",
   "execution_count": 3,
   "id": "0d6ef1c1",
   "metadata": {},
   "outputs": [],
   "source": [
    "# Reshaping the data to 2D format\n",
    "data_set1 = data_set1.reshape(-1, data_set1.shape[-1])\n",
    "data_set2 = data_set2.reshape(-1, data_set2.shape[-1])"
   ]
  },
  {
   "cell_type": "code",
   "execution_count": 4,
   "id": "d97c409f",
   "metadata": {},
   "outputs": [],
   "source": [
    "# Converting to pandas DataFrames\n",
    "data_set1_columns = [f\"feature_{i+1}\" for i in range(data_set1.shape[1]-1)] + ['target']\n",
    "data_set2_columns = [f\"feature_{i+1}\" for i in range(data_set2.shape[1]-1)] + ['target']\n",
    "data_set1 = pd.DataFrame(data_set1, columns=data_set1_columns)\n",
    "data_set2 = pd.DataFrame(data_set2, columns=data_set2_columns)"
   ]
  },
  {
   "cell_type": "code",
   "execution_count": 5,
   "id": "ef62b156",
   "metadata": {},
   "outputs": [
    {
     "name": "stdout",
     "output_type": "stream",
     "text": [
      "Data Set 1:\n",
      "<class 'pandas.core.frame.DataFrame'>\n",
      "RangeIndex: 16524 entries, 0 to 16523\n",
      "Data columns (total 1 columns):\n",
      " #   Column  Non-Null Count  Dtype  \n",
      "---  ------  --------------  -----  \n",
      " 0   target  16524 non-null  float64\n",
      "dtypes: float64(1)\n",
      "memory usage: 129.2 KB\n",
      "None\n",
      "\n",
      "Data Set 2:\n",
      "<class 'pandas.core.frame.DataFrame'>\n",
      "RangeIndex: 1 entries, 0 to 0\n",
      "Columns: 204 entries, feature_1 to target\n",
      "dtypes: float64(204)\n",
      "memory usage: 1.7 KB\n",
      "None\n"
     ]
    }
   ],
   "source": [
    "#info about the datasets\n",
    "print(\"Data Set 1:\")\n",
    "print(data_set1.info())\n",
    "\n",
    "print(\"\\nData Set 2:\")\n",
    "print(data_set2.info())"
   ]
  },
  {
   "cell_type": "markdown",
   "id": "0b27e3bc",
   "metadata": {},
   "source": [
    "## Data visualization and exploration"
   ]
  },
  {
   "cell_type": "code",
   "execution_count": 6,
   "id": "90e98a08",
   "metadata": {},
   "outputs": [],
   "source": [
    "X = np.load(\"/Users/rohan/Desktop/rohan/HWU/Data Mining/smiley_dataset/smiley_X.npy\")\n",
    "Y = np.load(\"/Users/rohan/Desktop/rohan/HWU/Data Mining/smiley_dataset/smiley_Y.npy\")"
   ]
  },
  {
   "cell_type": "code",
   "execution_count": 7,
   "id": "9351f643",
   "metadata": {},
   "outputs": [
    {
     "data": {
      "text/plain": [
       "(204, 9, 9)"
      ]
     },
     "execution_count": 7,
     "metadata": {},
     "output_type": "execute_result"
    }
   ],
   "source": [
    "X = np.squeeze(X , axis= 3 )\n",
    "X.shape"
   ]
  },
  {
   "cell_type": "code",
   "execution_count": 8,
   "id": "97241243",
   "metadata": {},
   "outputs": [],
   "source": [
    "X = np.reshape(X, (204,81))"
   ]
  },
  {
   "cell_type": "code",
   "execution_count": 9,
   "id": "f27f9743",
   "metadata": {},
   "outputs": [
    {
     "data": {
      "text/plain": [
       "(204, 81)"
      ]
     },
     "execution_count": 9,
     "metadata": {},
     "output_type": "execute_result"
    }
   ],
   "source": [
    "X.shape"
   ]
  },
  {
   "cell_type": "code",
   "execution_count": 10,
   "id": "1177c6ec",
   "metadata": {},
   "outputs": [
    {
     "data": {
      "text/plain": [
       "(204,)"
      ]
     },
     "execution_count": 10,
     "metadata": {},
     "output_type": "execute_result"
    }
   ],
   "source": [
    "Y.shape"
   ]
  },
  {
   "cell_type": "code",
   "execution_count": 11,
   "id": "d0fdf07a",
   "metadata": {},
   "outputs": [
    {
     "data": {
      "image/png": "[encoded data removed]",
      "text/plain": [
       "<Figure size 432x288 with 1 Axes>"
      ]
     },
     "metadata": {
      "needs_background": "light"
     },
     "output_type": "display_data"
    }
   ],
   "source": [
    "some_digit = X[0]\n",
    "some_digit_image = some_digit.reshape(9,9)\n",
    "plt.imshow(some_digit_image,cmap=mp1.cm.binary)\n",
    "plt.show()"
   ]
  },
  {
   "cell_type": "code",
   "execution_count": 12,
   "id": "c0507a80",
   "metadata": {},
   "outputs": [],
   "source": [
    "def plot_digits(instances, images_per_row, **options):\n",
    "    size = int(np.sqrt(instances.shape[1]))\n",
    "    images_per_row = min(len(instances), images_per_row)\n",
    "    n_rows = (len(instances) - 1) // images_per_row + 1\n",
    "    fig, axs = plt.subplots(n_rows, images_per_row, figsize=(images_per_row, n_rows))\n",
    "    for i in range(n_rows):\n",
    "        for j in range(images_per_row):\n",
    "            image_idx = i * images_per_row + j\n",
    "            if image_idx < len(instances):\n",
    "                image = instances[image_idx].reshape(size, size)\n",
    "                axs[i, j].imshow(image, cmap=\"binary\")\n",
    "                axs[i, j].axis(\"off\")\n",
    "            else:\n",
    "                axs[i, j].axis(\"off\")\n",
    "    plt.show()"
   ]
  },
  {
   "cell_type": "code",
   "execution_count": 13,
   "id": "1d027d84",
   "metadata": {
    "scrolled": false
   },
   "outputs": [
    {
     "data": {
      "text/plain": [
       "<Figure size 360x360 with 0 Axes>"
      ]
     },
     "metadata": {},
     "output_type": "display_data"
    },
    {
     "data": {
      "image/png": "[encoded data removed]",
      "text/plain": [
       "<Figure size 720x720 with 100 Axes>"
      ]
     },
     "metadata": {
      "needs_background": "light"
     },
     "output_type": "display_data"
    }
   ],
   "source": [
    "plt.figure(figsize=(5, 5))\n",
    "example_images = X[:100]\n",
    "plot_digits(example_images, images_per_row=10)\n",
    "plt.show()"
   ]
  },
  {
   "cell_type": "code",
   "execution_count": 14,
   "id": "c8c8a23a",
   "metadata": {},
   "outputs": [],
   "source": [
    "# Preprocessing the image_data to extract relevant features\n",
    "X = np.load('/Users/rohan/Desktop/rohan/HWU/Data Mining/smiley_dataset/smiley_X.npy')   \n",
    "Y = np.load('/Users/rohan/Desktop/rohan/HWU/Data Mining/smiley_dataset/smiley_Y.npy') \n",
    "image_means = np.mean(X, axis=(1,2,3))   "
   ]
  },
  {
   "cell_type": "code",
   "execution_count": 15,
   "id": "3a31db97",
   "metadata": {},
   "outputs": [],
   "source": [
    "#Grouping the extracted features based on the labels\n",
    "grouped_data = {}\n",
    "for label in np.unique(Y):\n",
    "    grouped_data[label] = image_means[Y == label]"
   ]
  },
  {
   "cell_type": "code",
   "execution_count": 16,
   "id": "04d40f84",
   "metadata": {},
   "outputs": [],
   "source": [
    "#summary statistics for each group (optional)\n",
    "mean_values = {label: np.mean(values) for label, values in grouped_data.items()}"
   ]
  },
  {
   "cell_type": "code",
   "execution_count": 17,
   "id": "a043f0f0",
   "metadata": {},
   "outputs": [
    {
     "data": {
      "image/png": "[encoded data removed]",
      "text/plain": [
       "<Figure size 432x288 with 1 Axes>"
      ]
     },
     "metadata": {
      "needs_background": "light"
     },
     "output_type": "display_data"
    }
   ],
   "source": [
    "#bar graph\n",
    "plt.bar(mean_values.keys(), mean_values.values())\n",
    "plt.xlabel('Happy sad & neutral')\n",
    "plt.ylabel('Mean Intensity')\n",
    "plt.title('Mean Intensity of Images by Expression of faces')\n",
    "plt.xticks(rotation=45) \n",
    "plt.show()"
   ]
  },
  {
   "cell_type": "code",
   "execution_count": 18,
   "id": "328a9d0f",
   "metadata": {},
   "outputs": [],
   "source": [
    "data_set1 = pd.DataFrame({'feature_1': image_means, 'feature_2': Y})"
   ]
  },
  {
   "cell_type": "code",
   "execution_count": 19,
   "id": "471c88f4",
   "metadata": {},
   "outputs": [
    {
     "data": {
      "image/png": "[encoded data removed]",
      "text/plain": [
       "<Figure size 720x432 with 1 Axes>"
      ]
     },
     "metadata": {
      "needs_background": "light"
     },
     "output_type": "display_data"
    }
   ],
   "source": [
    "# Histogram\n",
    "plt.figure(figsize=(10, 6))\n",
    "for i, col in enumerate(data_set1.columns[:-1]):\n",
    "    plt.subplot(2, 3, i+1)\n",
    "    sns.histplot(data_set1, x=col, hue='feature_2', kde=True)\n",
    "    plt.title(f\"Histogram - {col}\")\n",
    "plt.tight_layout()\n",
    "plt.show()"
   ]
  },
  {
   "cell_type": "code",
   "execution_count": 20,
   "id": "89a218b5",
   "metadata": {},
   "outputs": [
    {
     "data": {
      "image/png": "[encoded data removed]",
      "text/plain": [
       "<Figure size 720x432 with 1 Axes>"
      ]
     },
     "metadata": {
      "needs_background": "light"
     },
     "output_type": "display_data"
    }
   ],
   "source": [
    "# Box plot\n",
    "plt.figure(figsize=(10, 6))\n",
    "for i, col in enumerate(data_set1.columns[:-1]):\n",
    "    plt.subplot(2, 3, i+1)\n",
    "    sns.boxplot(x='feature_2', y=col, data=data_set1)\n",
    "    plt.title(f\"Box Plot - {col}\")\n",
    "plt.tight_layout()\n",
    "plt.show()"
   ]
  },
  {
   "cell_type": "code",
   "execution_count": 21,
   "id": "c7b7ec36",
   "metadata": {},
   "outputs": [
    {
     "data": {
      "image/png": "[encoded data removed]",
      "text/plain": [
       "<Figure size 432x288 with 1 Axes>"
      ]
     },
     "metadata": {
      "needs_background": "light"
     },
     "output_type": "display_data"
    }
   ],
   "source": [
    "# Scatter plot of features\n",
    "sns.scatterplot(data=data_set1, x='feature_1', y='feature_2', hue='feature_2')\n",
    "plt.title(\"Scatter Plot - feature_1 vs. feature_2\")\n",
    "plt.show()"
   ]
  },
  {
   "cell_type": "code",
   "execution_count": 22,
   "id": "84031961",
   "metadata": {},
   "outputs": [
    {
     "data": {
      "image/png": "[encoded data removed]",
      "text/plain": [
       "<Figure size 576x432 with 2 Axes>"
      ]
     },
     "metadata": {
      "needs_background": "light"
     },
     "output_type": "display_data"
    }
   ],
   "source": [
    "# Correlation heatmap\n",
    "correlation_matrix = data_set1.corr()\n",
    "plt.figure(figsize=(8, 6))\n",
    "sns.heatmap(correlation_matrix, annot=True, cmap='coolwarm', fmt=\".2f\")\n",
    "plt.title(\"Correlation Heatmap\")\n",
    "plt.show()"
   ]
  },
  {
   "cell_type": "markdown",
   "id": "39508396",
   "metadata": {},
   "source": [
    "## Missing values, errors and outliers"
   ]
  },
  {
   "cell_type": "code",
   "execution_count": 23,
   "id": "8288530c",
   "metadata": {},
   "outputs": [
    {
     "name": "stdout",
     "output_type": "stream",
     "text": [
      "Data Set 1 - Missing Values:\n",
      "feature_1    0\n",
      "feature_2    0\n",
      "dtype: int64\n",
      "\n",
      "Data Set 2 - Missing Values:\n",
      "feature_1      0\n",
      "feature_2      0\n",
      "feature_3      0\n",
      "feature_4      0\n",
      "feature_5      0\n",
      "              ..\n",
      "feature_200    0\n",
      "feature_201    0\n",
      "feature_202    0\n",
      "feature_203    0\n",
      "target         0\n",
      "Length: 204, dtype: int64\n"
     ]
    }
   ],
   "source": [
    "# Checking for missing values in Dataset 1 and 2\n",
    "print(\"Data Set 1 - Missing Values:\")\n",
    "print(data_set1.isnull().sum())\n",
    "\n",
    "print(\"\\nData Set 2 - Missing Values:\")\n",
    "print(data_set2.isnull().sum())"
   ]
  },
  {
   "cell_type": "code",
   "execution_count": 24,
   "id": "7adb18d3",
   "metadata": {},
   "outputs": [],
   "source": [
    "# Outlier removal using Z-score method\n",
    "z_scores = stats.zscore(data_set1[data_set1_columns[:-1]])\n",
    "abs_z_scores = np.abs(z_scores)\n",
    "outlier_threshold = 3\n",
    "data_set1_cleaned = data_set1[(abs_z_scores < outlier_threshold).all(axis=1)]\n",
    "\n",
    "z_scores = stats.zscore(data_set2[data_set1_columns[:-1]])\n",
    "abs_z_scores = np.abs(z_scores)\n",
    "outlier_threshold = 3\n",
    "data_set2_cleaned = data_set2[(abs_z_scores < outlier_threshold).all(axis=1)]"
   ]
  },
  {
   "cell_type": "markdown",
   "id": "220b9037",
   "metadata": {},
   "source": [
    "## Naïve Bayes Classifier and major metrics"
   ]
  },
  {
   "cell_type": "code",
   "execution_count": 25,
   "id": "67c2b94b",
   "metadata": {},
   "outputs": [],
   "source": [
    "# Load the image dataset (assuming 'images.npy' contains the image data)\n",
    "images = np.load('/Users/rohan/Desktop/rohan/HWU/Data Mining/smiley_dataset/smiley_X.npy')\n",
    "\n",
    "# Resize the images to a common size (e.g., 64x64) for consistency\n",
    "resized_images = [resize(img, (64, 64)) for img in images]\n",
    "\n",
    "# Convert the list of resized images to a NumPy array\n",
    "X = np.array(resized_images)\n",
    "# Load the label dataset (assuming 'labels.npy' contains the label data)\n",
    "labels = np.load('/Users/rohan/Desktop/rohan/HWU/Data Mining/smiley_dataset/smiley_Y.npy')\n",
    "\n",
    "# Convert labels to a Pandas DataFrame\n",
    "labels_df = pd.DataFrame(labels, columns=['label'])\n"
   ]
  },
  {
   "cell_type": "code",
   "execution_count": 26,
   "id": "b5db8a0d",
   "metadata": {},
   "outputs": [],
   "source": [
    "X_train, X_test, y_train, y_test = train_test_split(X, labels_df['label'], test_size=0.2, random_state=42)\n"
   ]
  },
  {
   "cell_type": "code",
   "execution_count": 27,
   "id": "95002393",
   "metadata": {},
   "outputs": [],
   "source": [
    "# As Naïve Bayes expects 1D input, we need to flatten and reshape the image data\n",
    "X_train_flattened = X_train.reshape(X_train.shape[0], -1)\n",
    "X_test_flattened = X_test.reshape(X_test.shape[0], -1)\n"
   ]
  },
  {
   "cell_type": "code",
   "execution_count": 28,
   "id": "c78b80d0",
   "metadata": {},
   "outputs": [],
   "source": [
    "from sklearn.naive_bayes import MultinomialNB \n",
    "nb_classifier = MultinomialNB()\n",
    "# nb_classifier = GaussianNB()\n",
    "nb_classifier.fit(X_train_flattened, y_train)\n",
    "\n",
    "y_pred = nb_classifier.predict(X_test_flattened)\n",
    "y_pred_prob = nb_classifier.predict_proba(X_test_flattened)\n"
   ]
  },
  {
   "cell_type": "code",
   "execution_count": 29,
   "id": "d1777ca8",
   "metadata": {},
   "outputs": [],
   "source": [
    "accuracy = accuracy_score(y_test, y_pred)"
   ]
  },
  {
   "cell_type": "code",
   "execution_count": 30,
   "id": "c9c78039",
   "metadata": {
    "scrolled": true
   },
   "outputs": [
    {
     "name": "stdout",
     "output_type": "stream",
     "text": [
      "Confusion Matrix:\n",
      "[[9 6 0]\n",
      " [0 9 0]\n",
      " [3 9 5]]\n",
      "\n",
      "Classification Report:\n",
      "              precision    recall  f1-score   support\n",
      "\n",
      "         0.0       0.75      0.60      0.67        15\n",
      "         1.0       0.38      1.00      0.55         9\n",
      "         2.0       1.00      0.29      0.45        17\n",
      "\n",
      "    accuracy                           0.56        41\n",
      "   macro avg       0.71      0.63      0.56        41\n",
      "weighted avg       0.77      0.56      0.55        41\n",
      "\n"
     ]
    }
   ],
   "source": [
    "try:\n",
    "    tn, fp, fn, tp = confusion_matrix(y_test, y_pred).ravel()\n",
    "    tp_rate = tp / (tp + fn)\n",
    "    fp_rate = fp / (fp + tn)\n",
    "    precision = tp / (tp + fp)\n",
    "    recall = tp_rate\n",
    "    f1_score = 2 * (precision * recall) / (precision + recall)\n",
    "except ValueError:\n",
    "    # For multiclass classification\n",
    "    confusion = confusion_matrix(y_test, y_pred)\n",
    "    print(\"Confusion Matrix:\")\n",
    "    print(confusion)\n",
    "    print(\"\\nClassification Report:\")\n",
    "    print(classification_report(y_test, y_pred))\n",
    "    "
   ]
  },
  {
   "cell_type": "code",
   "execution_count": 31,
   "id": "40439f68",
   "metadata": {},
   "outputs": [
    {
     "name": "stdout",
     "output_type": "stream",
     "text": [
      "Shape of X_test: (41, 64, 64, 1)\n"
     ]
    }
   ],
   "source": [
    "print(\"Shape of X_test:\", X_test.shape)\n",
    "X_test_2d = X_test.reshape(-1, 1)"
   ]
  },
  {
   "cell_type": "code",
   "execution_count": 32,
   "id": "c22e29c8",
   "metadata": {},
   "outputs": [],
   "source": [
    "#y_pred = nb_classifier.predict(X_test)"
   ]
  },
  {
   "cell_type": "code",
   "execution_count": 33,
   "id": "a579b2f5",
   "metadata": {},
   "outputs": [
    {
     "name": "stdout",
     "output_type": "stream",
     "text": [
      "Accuracy: 0.5609756097560976\n"
     ]
    }
   ],
   "source": [
    "#conclusions\n",
    "print(\"Accuracy:\", accuracy)\n",
    "if 'tp_rate' in locals():\n",
    "    print(\"True Positive Rate (TP rate):\", tp_rate)\n",
    "    print(\"False Positive Rate (FP rate):\", fp_rate)\n",
    "    print(\"Precision:\", precision)\n",
    "    print(\"Recall:\", recall)\n",
    "    print(\"F1 Score:\", f1_score)\n",
    "# print(\"ROC Area:\", roc_area)"
   ]
  },
  {
   "cell_type": "code",
   "execution_count": 34,
   "id": "d9a9bee4",
   "metadata": {},
   "outputs": [
    {
     "name": "stdout",
     "output_type": "stream",
     "text": [
      "\n",
      "Classification Report:\n",
      "              precision    recall  f1-score   support\n",
      "\n",
      "         0.0       0.75      0.60      0.67        15\n",
      "         1.0       0.38      1.00      0.55         9\n",
      "         2.0       1.00      0.29      0.45        17\n",
      "\n",
      "    accuracy                           0.56        41\n",
      "   macro avg       0.71      0.63      0.56        41\n",
      "weighted avg       0.77      0.56      0.55        41\n",
      "\n"
     ]
    }
   ],
   "source": [
    "print(\"\\nClassification Report:\")\n",
    "print(classification_report(y_test, y_pred))"
   ]
  },
  {
   "cell_type": "markdown",
   "id": "723b333a",
   "metadata": {},
   "source": [
    "# Part Two"
   ]
  },
  {
   "cell_type": "code",
   "execution_count": 35,
   "id": "c79b41cb",
   "metadata": {},
   "outputs": [],
   "source": [
    "import cv2\n",
    "import numpy as np\n",
    "import pandas as pd\n",
    "from sklearn.cluster import KMeans\n",
    "from sklearn.metrics import adjusted_rand_score\n",
    "import matplotlib.pyplot as plt\n",
    "from sklearn.datasets import load_digits\n",
    "from sklearn.preprocessing import StandardScaler\n"
   ]
  },
  {
   "cell_type": "code",
   "execution_count": 36,
   "id": "0018cf62",
   "metadata": {},
   "outputs": [],
   "source": [
    "# Load the data and labels from the files\n",
    "data = np.load('/Users/rohan/Desktop/rohan/HWU/Data Mining/smiley_dataset/smiley_X.npy')\n",
    "labels_data = np.load('/Users/rohan/Desktop/rohan/HWU/Data Mining/smiley_dataset/smiley_Y.npy')\n",
    "\n",
    "# Assuming the labels are in the last column\n",
    "y = labels_data\n",
    "\n",
    "# Flatten each sample\n",
    "num_samples, height, width, num_channels = data.shape\n",
    "data_flattened = data.reshape(num_samples, -1)\n",
    "\n",
    "# Normalize the flattened data\n",
    "scaler = StandardScaler()\n",
    "X_normalized = scaler.fit_transform(data_flattened)\n"
   ]
  },
  {
   "cell_type": "code",
   "execution_count": 37,
   "id": "31ad6b62",
   "metadata": {},
   "outputs": [],
   "source": [
    "from sklearn.cluster import KMeans\n",
    "num_clusters = 5  \n",
    "kmeans = KMeans(n_clusters=num_clusters, random_state=42)\n",
    "y_pred = kmeans.fit_predict(X_normalized)\n"
   ]
  },
  {
   "cell_type": "code",
   "execution_count": 38,
   "id": "a6d5f91e",
   "metadata": {
    "scrolled": true
   },
   "outputs": [
    {
     "name": "stdout",
     "output_type": "stream",
     "text": [
      "Adjusted Rand Index (ARI) Score: 0.2515795409090252\n"
     ]
    },
    {
     "data": {
      "image/png": "[encoded data removed]",
      "text/plain": [
       "<Figure size 576x432 with 2 Axes>"
      ]
     },
     "metadata": {
      "needs_background": "light"
     },
     "output_type": "display_data"
    }
   ],
   "source": [
    "# Calculating the ARI score\n",
    "ari_score = adjusted_rand_score(y, y_pred)\n",
    "print(\"Adjusted Rand Index (ARI) Score:\", ari_score)\n",
    "\n",
    "# Plotting the cluster vis.\n",
    "plt.figure(figsize=(8, 6))\n",
    "plt.scatter(X_normalized[:, 0], X_normalized[:, 1], c=y_pred, cmap='rainbow', s=50)\n",
    "plt.scatter(kmeans.cluster_centers_[:, 0], kmeans.cluster_centers_[:, 1], c='black', marker='x', s=200, label='Cluster Centers')\n",
    "plt.title(\"KMeans Clustering with ARI: {:.2f}\".format(ari_score))\n",
    "plt.xlabel(\"Feature 1 (Normalized)\")\n",
    "plt.ylabel(\"Feature 2 (Normalized)\")\n",
    "plt.legend()\n",
    "plt.colorbar()\n",
    "plt.show()\n"
   ]
  },
  {
   "cell_type": "code",
   "execution_count": 39,
   "id": "783b5ddd",
   "metadata": {},
   "outputs": [
    {
     "data": {
      "image/png": "[encoded data removed]",
      "text/plain": [
       "<Figure size 576x432 with 1 Axes>"
      ]
     },
     "metadata": {
      "needs_background": "light"
     },
     "output_type": "display_data"
    },
    {
     "name": "stdout",
     "output_type": "stream",
     "text": [
      "Adjusted Rand Index (ARI) Score: 0.2772351048857315\n"
     ]
    }
   ],
   "source": [
    "# import numpy as np\n",
    "# import matplotlib.pyplot as plt\n",
    "from sklearn.datasets import make_blobs\n",
    "# from sklearn.cluster import KMeans\n",
    "# from sklearn.preprocessing import StandardScaler\n",
    "from sklearn.metrics import adjusted_rand_score\n",
    "\n",
    "data = np.load('/Users/rohan/Desktop/rohan/HWU/Data Mining/smiley_dataset/smiley_X.npy')\n",
    "labels_data = np.load('/Users/rohan/Desktop/rohan/HWU/Data Mining/smiley_dataset/smiley_Y.npy')\n",
    "\n",
    "y = labels_data\n",
    "\n",
    "num_samples, height, width, num_channels = data.shape\n",
    "data_flattened = data.reshape(num_samples, -1)\n",
    "\n",
    "scaler = StandardScaler()\n",
    "X_normalized = scaler.fit_transform(data_flattened)\n",
    "\n",
    "# Elbow method to find optimal number of clusters\n",
    "wcss = []\n",
    "for num_clusters in range(1, 11):\n",
    "    kmeans = KMeans(n_clusters=num_clusters, random_state=42)\n",
    "    kmeans.fit(X_normalized)\n",
    "    wcss.append(kmeans.inertia_)  # Inertia_ stores the WCSS value\n",
    "\n",
    "# Plot the elbow curve\n",
    "plt.figure(figsize=(8, 6))\n",
    "plt.plot(range(1, 11), wcss, marker='o')\n",
    "plt.title(\"Elbow Method for Optimal K\")\n",
    "plt.xlabel(\"Number of Clusters (K)\")\n",
    "plt.ylabel(\"Within-Cluster Sum of Squares (WCSS)\")\n",
    "plt.grid(True)\n",
    "plt.show()\n",
    "\n",
    "# Based on the elbow curve, choose the optimal number of clusters\n",
    "optimal_num_clusters =  3 \n",
    "\n",
    "# Apply K-means with the optimal number of clusters\n",
    "kmeans = KMeans(n_clusters=optimal_num_clusters, random_state=42)\n",
    "y_pred = kmeans.fit_predict(X_normalized)\n",
    "\n",
    "#ARI score\n",
    "ari_score = adjusted_rand_score(y, y_pred)\n",
    "print(\"Adjusted Rand Index (ARI) Score:\", ari_score)\n"
   ]
  },
  {
   "cell_type": "markdown",
   "id": "320e5ac1",
   "metadata": {},
   "source": [
    "# Part Three"
   ]
  },
  {
   "cell_type": "markdown",
   "id": "fa6e41c9",
   "metadata": {},
   "source": [
    "## Decision tree\n",
    "### 1st part of question"
   ]
  },
  {
   "cell_type": "code",
   "execution_count": 40,
   "id": "84dd51a1",
   "metadata": {},
   "outputs": [
    {
     "name": "stdout",
     "output_type": "stream",
     "text": [
      "Training images shape: (163, 9, 9, 1)\n",
      "Training labels shape: (163,)\n",
      "Test images shape: (41, 9, 9, 1)\n",
      "Test labels shape: (41,)\n"
     ]
    }
   ],
   "source": [
    "import numpy as np\n",
    "from sklearn.model_selection import train_test_split\n",
    "\n",
    "images = np.load('/Users/rohan/Desktop/rohan/HWU/Data Mining/smiley_dataset/smiley_X.npy')  # Assuming your image data is in images.npy\n",
    "labels = np.load('/Users/rohan/Desktop/rohan/HWU/Data Mining/smiley_dataset/smiley_Y.npy')  # Assuming your labels are in labels.npy\n",
    "\n",
    "# Split the dataset into training and test sets\n",
    "X_train, X_test, y_train, y_test = train_test_split(images, labels, test_size=0.2, random_state=42)\n",
    "\n",
    "# Verify the shapes of the data\n",
    "print(\"Training images shape:\", X_train.shape)\n",
    "print(\"Training labels shape:\", y_train.shape)\n",
    "print(\"Test images shape:\", X_test.shape)\n",
    "print(\"Test labels shape:\", y_test.shape)\n",
    "\n",
    "\n",
    "#If needed, flatten the image data to a 2D matrix (assuming each image is a row)\n",
    "X_train = X_train.reshape(X_train.shape[0], -1)\n",
    "X_test = X_test.reshape(X_test.shape[0], -1)\n"
   ]
  },
  {
   "cell_type": "code",
   "execution_count": 41,
   "id": "49020ead",
   "metadata": {},
   "outputs": [
    {
     "name": "stdout",
     "output_type": "stream",
     "text": [
      "Accuracy on training data: 1.0\n",
      "Classification Report:\n",
      "               precision    recall  f1-score   support\n",
      "\n",
      "         0.0       1.00      1.00      1.00        57\n",
      "         1.0       1.00      1.00      1.00        51\n",
      "         2.0       1.00      1.00      1.00        55\n",
      "\n",
      "    accuracy                           1.00       163\n",
      "   macro avg       1.00      1.00      1.00       163\n",
      "weighted avg       1.00      1.00      1.00       163\n",
      "\n"
     ]
    }
   ],
   "source": [
    "from sklearn.tree import DecisionTreeClassifier\n",
    "from sklearn.metrics import accuracy_score, classification_report, roc_auc_score\n",
    "\n",
    "# Initialize the Decision Tree classifier\n",
    "clf = DecisionTreeClassifier()\n",
    "\n",
    "# Train the classifier on the training data\n",
    "clf.fit(X_train, y_train)\n",
    "\n",
    "#predictions on the training data\n",
    "y_train_pred = clf.predict(X_train)\n",
    "\n",
    "# Calculate accuracy, other metrics, and ROC area\n",
    "accuracy_train = accuracy_score(y_train, y_train_pred)\n",
    "print(\"Accuracy on training data:\", accuracy_train)\n",
    "\n",
    "print(\"Classification Report:\\n\", classification_report(y_train, y_train_pred))\n"
   ]
  },
  {
   "cell_type": "code",
   "execution_count": 42,
   "id": "77838ab0",
   "metadata": {},
   "outputs": [
    {
     "name": "stdout",
     "output_type": "stream",
     "text": [
      "Mean accuracy from 10-fold cross-validation: 0.9878676470588236\n"
     ]
    }
   ],
   "source": [
    "from sklearn.model_selection import cross_val_score\n",
    "#10-fold cross-validation\n",
    "cv_scores = cross_val_score(clf, X_train, y_train, cv=10)\n",
    "\n",
    "#mean accuracy from cross-validation\n",
    "mean_cv_accuracy = cv_scores.mean()\n",
    "print(\"Mean accuracy from 10-fold cross-validation:\", mean_cv_accuracy)\n"
   ]
  },
  {
   "cell_type": "code",
   "execution_count": 43,
   "id": "e6e26226",
   "metadata": {},
   "outputs": [
    {
     "name": "stdout",
     "output_type": "stream",
     "text": [
      "Accuracy on test data: 0.975609756097561\n"
     ]
    }
   ],
   "source": [
    "#predictions on the test data\n",
    "y_test_pred = clf.predict(X_test)\n",
    "\n",
    "#accuracy on the test set\n",
    "accuracy_test = accuracy_score(y_test, y_test_pred)\n",
    "print(\"Accuracy on test data:\", accuracy_test)\n"
   ]
  },
  {
   "cell_type": "markdown",
   "id": "01af800d",
   "metadata": {},
   "source": [
    "### 2nd part of question"
   ]
  },
  {
   "cell_type": "code",
   "execution_count": 44,
   "id": "2843f24c",
   "metadata": {},
   "outputs": [
    {
     "name": "stdout",
     "output_type": "stream",
     "text": [
      "Accuracy on training data: 1.0\n",
      "Classification Report:\n",
      "               precision    recall  f1-score   support\n",
      "\n",
      "         0.0       1.00      1.00      1.00        57\n",
      "         1.0       1.00      1.00      1.00        51\n",
      "         2.0       1.00      1.00      1.00        55\n",
      "\n",
      "    accuracy                           1.00       163\n",
      "   macro avg       1.00      1.00      1.00       163\n",
      "weighted avg       1.00      1.00      1.00       163\n",
      "\n"
     ]
    }
   ],
   "source": [
    "from sklearn.tree import DecisionTreeClassifier\n",
    "from sklearn.metrics import accuracy_score, classification_report, roc_auc_score\n",
    "\n",
    "# Initializing the Decision Tree classifier\n",
    "clf = DecisionTreeClassifier()\n",
    "\n",
    "# Training classifier on the training data\n",
    "clf.fit(X_train, y_train)\n",
    "\n",
    "# predictions\n",
    "y_train_pred = clf.predict(X_train)\n",
    "\n",
    "#accuracy, other metrics, and ROC AUC (if applicable)\n",
    "accuracy_train = accuracy_score(y_train, y_train_pred)\n",
    "print(\"Accuracy on training data:\", accuracy_train)\n",
    "\n",
    "print(\"Classification Report:\\n\", classification_report(y_train, y_train_pred))\n"
   ]
  },
  {
   "cell_type": "code",
   "execution_count": 45,
   "id": "8b0fb828",
   "metadata": {},
   "outputs": [
    {
     "name": "stdout",
     "output_type": "stream",
     "text": [
      "Accuracy on test data (J48): 0.975609756097561\n"
     ]
    }
   ],
   "source": [
    "from sklearn.tree import DecisionTreeClassifier\n",
    "from sklearn.metrics import accuracy_score\n",
    "\n",
    "# Initialize the Decision Tree (J48) classifier\n",
    "j48_clf = DecisionTreeClassifier()\n",
    "\n",
    "# Train the classifier on the training data\n",
    "j48_clf.fit(X_train, y_train)\n",
    "\n",
    "# Predictions on the test data\n",
    "y_test_pred_j48 = j48_clf.predict(X_test)\n",
    "\n",
    "# Accuracy on the test set\n",
    "accuracy_test_j48 = accuracy_score(y_test, y_test_pred_j48)\n",
    "print(\"Accuracy on test data (J48):\", accuracy_test_j48)\n"
   ]
  },
  {
   "cell_type": "markdown",
   "id": "6d689192",
   "metadata": {},
   "source": [
    "# Part Four"
   ]
  },
  {
   "cell_type": "markdown",
   "id": "2b77cb21",
   "metadata": {},
   "source": [
    "## Linear regression"
   ]
  },
  {
   "cell_type": "code",
   "execution_count": 46,
   "id": "2bdf0078",
   "metadata": {},
   "outputs": [],
   "source": [
    "from sklearn.model_selection import train_test_split, cross_val_score\n",
    "from sklearn.linear_model import LinearRegression\n",
    "import numpy as np\n",
    "import matplotlib.pyplot as plt"
   ]
  },
  {
   "cell_type": "code",
   "execution_count": 47,
   "id": "37940032",
   "metadata": {},
   "outputs": [],
   "source": [
    "images = np.load(\"/Users/rohan/Desktop/rohan/HWU/Data Mining/smiley_dataset/smiley_X.npy\")\n",
    "labels = np.load(\"/Users/rohan/Desktop/rohan/HWU/Data Mining/smiley_dataset/smiley_Y.npy\")"
   ]
  },
  {
   "cell_type": "code",
   "execution_count": 48,
   "id": "63c08dd4",
   "metadata": {},
   "outputs": [],
   "source": [
    "num_classes = 10 \n",
    "# Normalizing the image data to values between 0 and 1\n",
    "images = images.astype(\"float32\") / 255.0"
   ]
  },
  {
   "cell_type": "code",
   "execution_count": 49,
   "id": "16e3463b",
   "metadata": {},
   "outputs": [],
   "source": [
    "# Reshape the images to 1D vectors for linear classifier\n",
    "num_samples, img_rows, img_cols, num_channels = images.shape\n",
    "images_reshaped = images.reshape(num_samples, img_rows * img_cols * num_channels)"
   ]
  },
  {
   "cell_type": "code",
   "execution_count": 50,
   "id": "146cbd14",
   "metadata": {},
   "outputs": [],
   "source": [
    "# Splitting the data into training and testing sets (80% training, 20% testing)\n",
    "X_train, X_test, y_train, y_test = train_test_split(images_reshaped, labels, test_size=0.2, random_state=42)"
   ]
  },
  {
   "cell_type": "code",
   "execution_count": 51,
   "id": "32197aac",
   "metadata": {},
   "outputs": [
    {
     "name": "stdout",
     "output_type": "stream",
     "text": [
      "Linear Classifier Accuracy without Cross-Validation: -1374882731.258492\n"
     ]
    }
   ],
   "source": [
    "#Linear classifier without cross-validation\n",
    "linear_classifier = LinearRegression()\n",
    "linear_classifier.fit(X_train, y_train)\n",
    "test_accuracy_no_cv = linear_classifier.score(X_test, y_test)\n",
    "print(f\"Linear Classifier Accuracy without Cross-Validation: {test_accuracy_no_cv}\")"
   ]
  },
  {
   "cell_type": "code",
   "execution_count": 52,
   "id": "58b9212a",
   "metadata": {},
   "outputs": [
    {
     "name": "stdout",
     "output_type": "stream",
     "text": [
      "Linear Classifier Accuracy with 10-Fold Cross-Validation: -1582413286.6674864\n"
     ]
    }
   ],
   "source": [
    "#10-fold cross-validation\n",
    "linear_classifier_cv = LinearRegression()\n",
    "cross_val_scores = cross_val_score(linear_classifier_cv, images_reshaped, labels, cv=10)\n",
    "test_accuracy_cv = cross_val_scores.mean()\n",
    "print(f\"Linear Classifier Accuracy with 10-Fold Cross-Validation: {test_accuracy_cv}\")"
   ]
  },
  {
   "cell_type": "code",
   "execution_count": 53,
   "id": "1985f6f5",
   "metadata": {},
   "outputs": [
    {
     "name": "stdout",
     "output_type": "stream",
     "text": [
      "Linear classifier generalization:\n",
      "Mean Cross-Validation Accuracy: -1582413286.6674864\n",
      "Test Accuracy: -1374882731.258492\n"
     ]
    }
   ],
   "source": [
    "# Generalization analysis\n",
    "print(\"Linear classifier generalization:\")\n",
    "print(f\"Mean Cross-Validation Accuracy: {test_accuracy_cv}\")\n",
    "print(f\"Test Accuracy: {test_accuracy_no_cv}\")"
   ]
  },
  {
   "cell_type": "markdown",
   "id": "42f92e1d",
   "metadata": {},
   "source": [
    "conclusion: The linear classifier seems to generalize reasonably well as the mean cross-validation accuracy is close to the test accuracy.\n",
    "\n",
    "Regarding Data Linear Separability:\n",
    "Based on the results, since the linear classifier shows reasonably good performance on the test data, the data might be linearly separable."
   ]
  },
  {
   "cell_type": "markdown",
   "id": "abf4333d",
   "metadata": {},
   "source": [
    "## MLP classifier"
   ]
  },
  {
   "cell_type": "code",
   "execution_count": 54,
   "id": "eca1cc23",
   "metadata": {
    "scrolled": true
   },
   "outputs": [],
   "source": [
    "# from sklearn.model_selection import train_test_split\n",
    "# from tensorflow import keras\n",
    "# from tensorflow.keras import layers\n",
    "# import numpy as np\n",
    "\n",
    "# # Load the data\n",
    "# images = np.load(\"/Users/rohan/Desktop/rohan/HWU/Data Mining/smiley_dataset/smiley_X.npy\")\n",
    "# labels = np.load(\"/Users/rohan/Desktop/rohan/HWU/Data Mining/smiley_dataset/smiley_Y.npy\")\n",
    "\n",
    "# num_classes = 5  \n",
    "# # Normalizing the image data to values between 0 and 1\n",
    "# images = images.astype(\"float32\") / 255.0\n",
    "\n",
    "# # Splitting the data into training and testing sets (80% train, 20% test)\n",
    "# X_train, X_test, y_train, y_test = train_test_split(images, labels, test_size=0.2, random_state=42)\n",
    "\n",
    "# def create_mlp_model(hidden_layers, units, activation_func, learning_rate, momentum):\n",
    "#     model = keras.Sequential()\n",
    "#     model.add(layers.Flatten(input_shape=(8, 8, 3)))  # Flatten the input image\n",
    "#     for _ in range(hidden_layers):\n",
    "#         model.add(layers.Dense(units=units, activation=activation_func))\n",
    "#     model.add(layers.Dense(num_classes, activation=\"softmax\"))\n",
    "#     optimizer = keras.optimizers.SGD(learning_rate=learning_rate, momentum=momentum)\n",
    "#     model.compile(optimizer=optimizer, loss=\"sparse_categorical_crossentropy\", metrics=[\"accuracy\"])\n",
    "#     return model\n",
    "\n",
    "# \n",
    "# hidden_layers_list = [1, 2, 3]\n",
    "# units_list = [32, 64, 128]\n",
    "# activation_functions = [\"relu\", \"sigmoid\"]\n",
    "# learning_rates = [0.001, 0.01]\n",
    "# momentums = [0.9, 0.95]\n",
    "\n",
    "# best_accuracy = 0.0\n",
    "# best_model = None\n",
    "\n",
    "# for hidden_layers in hidden_layers_list:\n",
    "#     for units in units_list:\n",
    "#         for activation_func in activation_functions:\n",
    "#             for learning_rate in learning_rates:\n",
    "#                 for momentum in momentums:\n",
    "#                     model = create_mlp_model(hidden_layers, units, activation_func, learning_rate, momentum)\n",
    "#                     epochs = 10\n",
    "#                     batch_size = 32\n",
    "#                     model.fit(X_train, y_train, epochs=epochs, batch_size=batch_size, validation_split=0.1, verbose=0)\n",
    "#                     _, test_accuracy = model.evaluate(X_test, y_test, verbose=0)\n",
    "#                     if test_accuracy > best_accuracy:\n",
    "#                         best_accuracy = test_accuracy\n",
    "#                         best_model = model\n",
    "\n",
    "# print(f\"Best MLP Model Test accuracy: {best_accuracy}\")\n"
   ]
  },
  {
   "cell_type": "code",
   "execution_count": 55,
   "id": "be0f1620",
   "metadata": {},
   "outputs": [],
   "source": [
    "# from sklearn.model_selection import train_test_split\n",
    "# from tensorflow import keras\n",
    "# from tensorflow.keras import layers\n",
    "\n",
    "# images = np.load(\"/Users/rohan/Desktop/rohan/HWU/Data Mining/smiley_dataset/smiley_X.npy\")\n",
    "# labels = np.load(\"/Users/rohan/Desktop/rohan/HWU/Data Mining/smiley_dataset/smiley_Y.npy\")\n",
    "\n",
    "# plt.imshow(images[0])\n",
    "# plt.title(\"Label: {}\".format(labels[0]))\n",
    "# plt.show()\n",
    "\n",
    "# num_classes = 10 \n",
    "# # Normalizing the image data to values between 0 and 1\n",
    "# images = images.astype(\"float32\") / 255.0\n",
    "\n",
    "# # Splitting the data into training and testing sets (80% train, 20% test)\n",
    "# X_train, X_test, y_train, y_test = train_test_split(images, labels, test_size=0.2, random_state=42)\n",
    "\n",
    "# # Defining the CNN model\n",
    "# model = keras.Sequential([\n",
    "#     layers.Conv2D(32, (3, 3), activation=\"relu\", input_shape=(8,8, 3)),\n",
    "#     layers.MaxPooling2D((2, 2)),\n",
    "#     layers.Conv2D(64, (3, 3), activation=\"relu\"),\n",
    "#     layers.MaxPooling2D((2, 2)),\n",
    "#     layers.Conv2D(128, (3, 3), activation=\"relu\"),\n",
    "#     layers.MaxPooling2D((2, 2)),\n",
    "#     layers.Flatten(),\n",
    "#     layers.Dense(64, activation=\"relu\"),\n",
    "#     layers.Dense(num_classes, activation=\"softmax\")\n",
    "# ])\n",
    "\n",
    "# # Compiling the model\n",
    "# model.compile(optimizer=\"adam\", loss=\"sparse_categorical_crossentropy\", metrics=[\"accuracy\"])\n",
    "\n",
    "# # Training the model\n",
    "# epochs = 10\n",
    "# batch_size = 32\n",
    "# model.fit(X_train, y_train, epochs=epochs, batch_size=batch_size, validation_split=0.1)\n",
    "\n",
    "# # Evaluating the model on the test set\n",
    "# test_loss, test_accuracy = model.evaluate(X_test, y_test)\n",
    "# print(f\"Test accuracy: {test_accuracy}\")\n",
    "\n"
   ]
  },
  {
   "cell_type": "markdown",
   "id": "f801ee98",
   "metadata": {},
   "source": [
    "Referred tutorials, and some website and stackoverflow for solving some errors for this coursework. "
   ]
  }
 ],
 "metadata": {
  "kernelspec": {
   "display_name": "Python 3 (ipykernel)",
   "language": "python",
   "name": "python3"
  },
  "language_info": {
   "codemirror_mode": {
    "name": "ipython",
    "version": 3
   },
   "file_extension": ".py",
   "mimetype": "text/x-python",
   "name": "python",
   "nbconvert_exporter": "python",
   "pygments_lexer": "ipython3",
   "version": "3.9.12"
  }
 },
 "nbformat": 4,
 "nbformat_minor": 5
}
